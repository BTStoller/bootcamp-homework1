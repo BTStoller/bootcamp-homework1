{
 "cells": [
  {
   "cell_type": "code",
   "execution_count": 1,
   "metadata": {},
   "outputs": [
    {
     "name": "stdout",
     "output_type": "stream",
     "text": [
      "Election Results - election_data\n",
      "-----------------------------------------\n",
      "Total Votes: 3521001\n",
      "-----------------------------------------\n",
      "Candidate  Number of Votes Percentage of Votes\n",
      "    Khan          2218231               63.0%\n",
      "  Correy           704200               20.0%\n",
      "      Li           492940               14.0%\n",
      "O'Tooley           105630                3.0%\n",
      "-----------------------------------------\n",
      "Winner: Khan\n",
      "\n"
     ]
    }
   ],
   "source": [
    "import os\n",
    "import pandas as pd\n",
    "import numpy as np\n",
    "\n",
    "root_path = os.path.join(os.getcwd(), \".\")\n",
    "data_path = os.path.join(root_path, \"Resources\")\n",
    "output_path = os.path.join(root_path)\n",
    "\n",
    "filepaths = []\n",
    "for file in os.listdir(data_path):\n",
    "    if file.endswith(\".csv\"):\n",
    "        filepaths.append(os.path.join(data_path, file))\n",
    "\n",
    "for file in filepaths:\n",
    "    df = file\n",
    "    df_pd = pd.read_csv(df)\n",
    "    tot_votes = df_pd[\"Candidate\"].count()\n",
    "    cand_votes = df_pd[\"Candidate\"].value_counts()\n",
    "    cand_votes_df = pd.DataFrame(cand_votes)\n",
    "    cand_votes_df.columns=[\"Votes\"]\n",
    "    candidate_list = cand_votes_df.index.tolist()\n",
    "    vote_list = cand_votes_df.iloc[:, 0].tolist()\n",
    "    \n",
    "\n",
    "    percent_votes = ((vote_list/tot_votes)*100).round(1)\n",
    "    percent_list = list(map(\"{}%\".format, percent_votes))\n",
    "   \n",
    "    results_df = pd.DataFrame({\n",
    "        \"Candidate\": candidate_list,\n",
    "        \"Number of Votes\": vote_list,\n",
    "        \"Percentage of Votes\": percent_list\n",
    "    })\n",
    "    \n",
    "    win_df = results_df.set_index(\"Number of Votes\")\n",
    "    win_votes = max(vote_list)\n",
    "    winner = win_df.loc[win_votes].Candidate\n",
    "\n",
    "    _, filename = os.path.split(file)\n",
    "    filename, _ = filename.split(\".csv\")\n",
    "\n",
    "    print(\n",
    "        f\"Election Results - {filename}\\n\"\n",
    "        f\"-----------------------------------------\\n\"\n",
    "        f\"Total Votes: {tot_votes}\\n\"\n",
    "        f\"-----------------------------------------\\n\" \n",
    "        f\"{results_df.to_string(index=False)}\\n\"\n",
    "        f\"-----------------------------------------\\n\" \n",
    "        f\"Winner: {winner}\\n\"\n",
    "    )\n",
    "    \n",
    "    text_path = os.path.join(output_path, filename + \".txt\")\n",
    "    with open('results.txt', 'w') as text:\n",
    "            text.write(\n",
    "            f\"Election Results - {filename}\\n\"\n",
    "            f\"-----------------------------------------\\n\"\n",
    "            f\"Total Votes: {tot_votes}\\n\"\n",
    "            f\"-----------------------------------------\\n\" \n",
    "            f\"{results_df.to_string(index=False)}\\n\"\n",
    "            f\"-----------------------------------------\\n\" \n",
    "            f\"Winner: {winner}\\n\"\n",
    "            )"
   ]
  },
  {
   "cell_type": "code",
   "execution_count": null,
   "metadata": {},
   "outputs": [],
   "source": []
  }
 ],
 "metadata": {
  "kernelspec": {
   "display_name": "Python 3",
   "language": "python",
   "name": "python3"
  },
  "language_info": {
   "codemirror_mode": {
    "name": "ipython",
    "version": 3
   },
   "file_extension": ".py",
   "mimetype": "text/x-python",
   "name": "python",
   "nbconvert_exporter": "python",
   "pygments_lexer": "ipython3",
   "version": "3.6.5"
  }
 },
 "nbformat": 4,
 "nbformat_minor": 2
}
