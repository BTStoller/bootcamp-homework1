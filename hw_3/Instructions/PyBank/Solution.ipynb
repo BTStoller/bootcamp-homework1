{
 "cells": [
  {
   "cell_type": "code",
   "execution_count": 1,
   "metadata": {},
   "outputs": [
    {
     "name": "stdout",
     "output_type": "stream",
     "text": [
      "Financial Analysis - budget_data\n",
      "----------------------------\n",
      "Total Months: 86\n",
      "Total Revenue: $38382578\n",
      "Average Revenue Change: $-2315\n",
      "Greatest Increase in Revenue: Feb-2012 ($1926159)\n",
      "Greatest Decrease in Revenue: Sep-2013 ($-2196167)\n",
      "\n"
     ]
    }
   ],
   "source": [
    "import os\n",
    "import csv\n",
    "\n",
    "root_path = os.path.join(os.getcwd(), \".\")\n",
    "data_path = os.path.join(root_path, \"resources\")\n",
    "output_path = os.path.join(root_path)\n",
    "\n",
    "filepaths = []\n",
    "for file in os.listdir(data_path):\n",
    "    if file.endswith(\".csv\"):\n",
    "        filepaths.append(os.path.join(data_path, file))\n",
    "\n",
    "for file in filepaths:\n",
    "    tot_revenue = 0\n",
    "    month_count = 0\n",
    "    revenue = 0\n",
    "    rev_change = 0\n",
    "    data_dict_list = []\n",
    "    with open(file, newline=\"\") as csvfile:\n",
    "        csvreader = csv.DictReader(csvfile)\n",
    "        for row in csvreader:\n",
    "            rev_diff = {\"rev_diff\": int(\"{Profit/Losses}\".format(**row)) - revenue}\n",
    "            rev_change = rev_change + int(\"{Profit/Losses}\".format(**row)) - revenue\n",
    "            revenue = int(\"{Profit/Losses}\".format(**row))\n",
    "            tot_revenue += revenue\n",
    "            month_count += 1\n",
    "            data_dict_list.append({**row, **rev_diff})\n",
    "        increase_dict = dict(max(data_dict_list, key=lambda x:x[\"rev_diff\"]))\n",
    "        decrease_dict = dict(min(data_dict_list, key=lambda x:x[\"rev_diff\"]))\n",
    "        increase_date = increase_dict.get(\"Date\")\n",
    "        increase_revdiff = increase_dict.get(\"rev_diff\")\n",
    "        decrease_date = decrease_dict.get(\"Date\")\n",
    "        decrease_revdiff = decrease_dict.get(\"rev_diff\")\n",
    "        first_row = data_dict_list[0]\n",
    "        first_row_revdiff = first_row.get(\"rev_diff\")\n",
    "        rev_change = rev_change - first_row_revdiff\n",
    "        avg_change = int(rev_change/(month_count - 1))\n",
    "        \n",
    "        _, filename = os.path.split(file)\n",
    "        filename, _ = filename.split(\".csv\")     \n",
    "        print(\n",
    "            f\"Financial Analysis - {filename}\\n\"\n",
    "            f\"----------------------------\\n\"\n",
    "            f\"Total Months: {month_count}\\n\" \n",
    "            f\"Total Revenue: ${tot_revenue}\\n\"\n",
    "            f\"Average Revenue Change: ${avg_change}\\n\"\n",
    "            f\"Greatest Increase in Revenue: {increase_date} (${increase_revdiff})\\n\"\n",
    "            f\"Greatest Decrease in Revenue: {decrease_date} (${decrease_revdiff})\\n\"\n",
    "        )\n",
    "\n",
    "        text_path = os.path.join(output_path, filename + \".txt\")\n",
    "        with open('financial_analysis.txt', 'w') as text:\n",
    "            text.write(\n",
    "            f\"Financial Analysis: {filename}\\n\"\n",
    "            f\"----------------------------\\n\"\n",
    "            f\"Total Months: {month_count}\\n\" \n",
    "            f\"Total Revenue: ${tot_revenue}\\n\"\n",
    "            f\"Average Revenue Change: ${avg_change}\\n\"\n",
    "            f\"Greatest Increase in Revenue: {increase_date} (${increase_revdiff})\\n\"\n",
    "            f\"Greatest Decrease in Revenue: {decrease_date} (${decrease_revdiff})\\n\"\n",
    "            )"
   ]
  },
  {
   "cell_type": "code",
   "execution_count": null,
   "metadata": {},
   "outputs": [],
   "source": []
  }
 ],
 "metadata": {
  "kernelspec": {
   "display_name": "Python 3",
   "language": "python",
   "name": "python3"
  },
  "language_info": {
   "codemirror_mode": {
    "name": "ipython",
    "version": 3
   },
   "file_extension": ".py",
   "mimetype": "text/x-python",
   "name": "python",
   "nbconvert_exporter": "python",
   "pygments_lexer": "ipython3",
   "version": "3.6.5"
  }
 },
 "nbformat": 4,
 "nbformat_minor": 2
}
